{
 "cells": [
  {
   "cell_type": "code",
   "execution_count": 4,
   "id": "4fa0ac78",
   "metadata": {},
   "outputs": [],
   "source": [
    "import time\n",
    "import os\n",
    "from tqdm import tqdm\n",
    "\n",
    "import pandas as pd\n",
    "import numpy as np\n",
    "import cv2\n",
    "import seaborn as sns\n",
    "from PIL import Image\n",
    "\n",
    "import matplotlib.pyplot as plt\n",
    "%matplotlib inline"
   ]
  },
  {
   "cell_type": "code",
   "execution_count": null,
   "id": "8d6e5b20",
   "metadata": {},
   "outputs": [],
   "source": [
    "import torch\n",
    "import torchvision\n",
    "import torch.nn as nn\n",
    "import torch.nn.functional as F"
   ]
  },
  {
   "cell_type": "code",
   "execution_count": null,
   "id": "3041bece",
   "metadata": {},
   "outputs": [],
   "source": [
    "device = torch.device('cuda:0' if torch.cuda.is_available() else 'cpu')\n",
    "print('device', device)"
   ]
  },
  {
   "cell_type": "code",
   "execution_count": 2,
   "id": "91d77184",
   "metadata": {},
   "outputs": [],
   "source": [
    "from torch.utils.data import Dataset\n",
    "from torch.utils.data import DataLoader\n",
    "from torchvision import transforms\n",
    "import os"
   ]
  },
  {
   "cell_type": "code",
   "execution_count": 3,
   "id": "b5a2c0f0",
   "metadata": {},
   "outputs": [],
   "source": [
    "train_dataset = pd.read_csv('Train_Data.csv')\n",
    "cv_dataset = pd.read_csv('CV_Data.csv')\n",
    "test_dataset = pd.read_csv('Test_Data.csv')"
   ]
  },
  {
   "cell_type": "code",
   "execution_count": 8,
   "id": "1f8d56dd",
   "metadata": {},
   "outputs": [
    {
     "name": "stdout",
     "output_type": "stream",
     "text": [
      "<class 'pandas.core.frame.DataFrame'>\n"
     ]
    },
    {
     "data": {
      "text/html": [
       "<div>\n",
       "<style scoped>\n",
       "    .dataframe tbody tr th:only-of-type {\n",
       "        vertical-align: middle;\n",
       "    }\n",
       "\n",
       "    .dataframe tbody tr th {\n",
       "        vertical-align: top;\n",
       "    }\n",
       "\n",
       "    .dataframe thead th {\n",
       "        text-align: right;\n",
       "    }\n",
       "</style>\n",
       "<table border=\"1\" class=\"dataframe\">\n",
       "  <thead>\n",
       "    <tr style=\"text-align: right;\">\n",
       "      <th></th>\n",
       "      <th>Person_id</th>\n",
       "      <th>Image1</th>\n",
       "      <th>Image2</th>\n",
       "      <th>Report</th>\n",
       "    </tr>\n",
       "  </thead>\n",
       "  <tbody>\n",
       "    <tr>\n",
       "      <th>0</th>\n",
       "      <td>../data/NLMCXR/NLMCXR_png/CXR1_1_IM-0001_0</td>\n",
       "      <td>../data/NLMCXR/NLMCXR_png/CXR1_1_IM-0001-3001.png</td>\n",
       "      <td>../data/NLMCXR/NLMCXR_png/CXR1_1_IM-0001-4001.png</td>\n",
       "      <td>startseq the cardiac silhouette and mediastinu...</td>\n",
       "    </tr>\n",
       "    <tr>\n",
       "      <th>1</th>\n",
       "      <td>../data/NLMCXR/NLMCXR_png/CXR10_IM-0002_0</td>\n",
       "      <td>../data/NLMCXR/NLMCXR_png/CXR10_IM-0002-1001.png</td>\n",
       "      <td>../data/NLMCXR/NLMCXR_png/CXR10_IM-0002-2001.png</td>\n",
       "      <td>startseq the cardiomediastinal silhouette with...</td>\n",
       "    </tr>\n",
       "    <tr>\n",
       "      <th>2</th>\n",
       "      <td>../data/NLMCXR/NLMCXR_png/CXR100_IM-0002_0</td>\n",
       "      <td>../data/NLMCXR/NLMCXR_png/CXR100_IM-0002-1001.png</td>\n",
       "      <td>../data/NLMCXR/NLMCXR_png/CXR100_IM-0002-2001.png</td>\n",
       "      <td>startseq both lungs are clear and epanded .  h...</td>\n",
       "    </tr>\n",
       "    <tr>\n",
       "      <th>3</th>\n",
       "      <td>../data/NLMCXR/NLMCXR_png/CXR1000_IM-0003_0</td>\n",
       "      <td>../data/NLMCXR/NLMCXR_png/CXR1000_IM-0003-1001...</td>\n",
       "      <td>../data/NLMCXR/NLMCXR_png/CXR1000_IM-0003-2001...</td>\n",
       "      <td>startseq there increased opacity within the ri...</td>\n",
       "    </tr>\n",
       "    <tr>\n",
       "      <th>4</th>\n",
       "      <td>../data/NLMCXR/NLMCXR_png/CXR1000_IM-0003_1</td>\n",
       "      <td>../data/NLMCXR/NLMCXR_png/CXR1000_IM-0003-1001...</td>\n",
       "      <td>../data/NLMCXR/NLMCXR_png/CXR1000_IM-0003-3001...</td>\n",
       "      <td>startseq there increased opacity within the ri...</td>\n",
       "    </tr>\n",
       "  </tbody>\n",
       "</table>\n",
       "</div>"
      ],
      "text/plain": [
       "                                     Person_id  \\\n",
       "0   ../data/NLMCXR/NLMCXR_png/CXR1_1_IM-0001_0   \n",
       "1    ../data/NLMCXR/NLMCXR_png/CXR10_IM-0002_0   \n",
       "2   ../data/NLMCXR/NLMCXR_png/CXR100_IM-0002_0   \n",
       "3  ../data/NLMCXR/NLMCXR_png/CXR1000_IM-0003_0   \n",
       "4  ../data/NLMCXR/NLMCXR_png/CXR1000_IM-0003_1   \n",
       "\n",
       "                                              Image1  \\\n",
       "0  ../data/NLMCXR/NLMCXR_png/CXR1_1_IM-0001-3001.png   \n",
       "1   ../data/NLMCXR/NLMCXR_png/CXR10_IM-0002-1001.png   \n",
       "2  ../data/NLMCXR/NLMCXR_png/CXR100_IM-0002-1001.png   \n",
       "3  ../data/NLMCXR/NLMCXR_png/CXR1000_IM-0003-1001...   \n",
       "4  ../data/NLMCXR/NLMCXR_png/CXR1000_IM-0003-1001...   \n",
       "\n",
       "                                              Image2  \\\n",
       "0  ../data/NLMCXR/NLMCXR_png/CXR1_1_IM-0001-4001.png   \n",
       "1   ../data/NLMCXR/NLMCXR_png/CXR10_IM-0002-2001.png   \n",
       "2  ../data/NLMCXR/NLMCXR_png/CXR100_IM-0002-2001.png   \n",
       "3  ../data/NLMCXR/NLMCXR_png/CXR1000_IM-0003-2001...   \n",
       "4  ../data/NLMCXR/NLMCXR_png/CXR1000_IM-0003-3001...   \n",
       "\n",
       "                                              Report  \n",
       "0  startseq the cardiac silhouette and mediastinu...  \n",
       "1  startseq the cardiomediastinal silhouette with...  \n",
       "2  startseq both lungs are clear and epanded .  h...  \n",
       "3  startseq there increased opacity within the ri...  \n",
       "4  startseq there increased opacity within the ri...  "
      ]
     },
     "execution_count": 8,
     "metadata": {},
     "output_type": "execute_result"
    }
   ],
   "source": [
    "print(type(train_dataset))\n",
    "train_dataset.head()"
   ]
  },
  {
   "cell_type": "code",
   "execution_count": null,
   "id": "3bbc3290",
   "metadata": {},
   "outputs": [],
   "source": [
    "class DatasetFromCSV(Dataset):\n",
    "    def __init__(self, csv_path):\n",
    "        # Read the csv file\n",
    "        self.data_info = pd.read_csv(csv_path, header=None)\n",
    "        \n",
    "        self.person_id = np.asarray(self.data_info.iloc[:, 0])\n",
    "        self.image1 = np.asarray(self.data_info.iloc[:,1])\n",
    "        self.image2 = np.asarray(self.data_info.iloc[:,2])\n",
    "        self.report = np.asarray(self.data_info.iloc[:,3])\n",
    "        \n",
    "        # Calculate len\n",
    "        self.data_len = len(self.data_info.index)\n",
    "\n",
    "    def __getitem__(self, index):\n",
    "        # Get image name from the pandas df\n",
    "        single_image_name = self.image_arr[index]\n",
    "        # Open image\n",
    "        img_as_img = Image.open(single_image_name)\n",
    "        # Check if there is an operation\n",
    "        some_operation = self.operation_arr[index]\n",
    "        # If there is an operation\n",
    "        if some_operation:\n",
    "            # Do some operation on image\n",
    "            # ...\n",
    "            # ...\n",
    "            pass\n",
    "\n",
    "        # Transform image to tensor\n",
    "        img_as_tensor = self.to_tensor(img_as_img)\n",
    "        # Get label of the image based on the cropped pandas column\n",
    "        single_image_label = self.label_arr[index]\n",
    "        return (img_as_tensor, single_image_label)\n",
    "\n",
    "    def __len__(self):\n",
    "        return self.data_len"
   ]
  },
  {
   "cell_type": "code",
   "execution_count": null,
   "id": "b7f070ef",
   "metadata": {},
   "outputs": [],
   "source": [
    "pip uninstall jupytext"
   ]
  },
  {
   "cell_type": "code",
   "execution_count": null,
   "id": "0579ebca",
   "metadata": {},
   "outputs": [],
   "source": []
  },
  {
   "cell_type": "code",
   "execution_count": null,
   "id": "38f775f7",
   "metadata": {},
   "outputs": [],
   "source": []
  }
 ],
 "metadata": {
  "jupytext": {
   "formats": "notebooks///ipynb,notebooks/py///py"
  },
  "kernelspec": {
   "display_name": "Python [conda env:pytorch]",
   "language": "python",
   "name": "pytorch"
  },
  "language_info": {
   "codemirror_mode": {
    "name": "ipython",
    "version": 3
   },
   "file_extension": ".py",
   "mimetype": "text/x-python",
   "name": "python",
   "nbconvert_exporter": "python",
   "pygments_lexer": "ipython3",
   "version": "3.9.15"
  }
 },
 "nbformat": 4,
 "nbformat_minor": 5
}
